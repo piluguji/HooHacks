{
 "cells": [
  {
   "cell_type": "code",
   "execution_count": 8,
   "metadata": {},
   "outputs": [],
   "source": [
    "#Dependencies\n",
    "import pickle\n",
    "import numpy\n",
    "import keras\n",
    "from keras.models import Sequential\n",
    "from keras.layers import Dense\n",
    "import matplotlib.pyplot as plt"
   ]
  },
  {
   "cell_type": "code",
   "execution_count": 67,
   "metadata": {},
   "outputs": [
    {
     "name": "stdout",
     "output_type": "stream",
     "text": [
      "[100, 101, 102, 103, 104, 105, 106, 107, 108, 109, 110, 111, 112, 113, 114]\n"
     ]
    }
   ],
   "source": [
    "filehandler = open(\"save.p\", 'rb') \n",
    "object = pickle.load(filehandler)\n",
    "#object = object[0]\n",
    "\n",
    "input_premiums = [x for x in range(100, 115, 1)]\n",
    "print(input_premiums)\n",
    "expected_inps = []\n",
    "expected = []\n",
    "\n",
    "prices = object[0]\n",
    "probs = object[1]\n",
    "\n",
    "prev_diff = 10000000\n",
    "prev_val = 0\n",
    "current_index = 0"
   ]
  },
  {
   "cell_type": "code",
   "execution_count": 68,
   "metadata": {},
   "outputs": [],
   "source": [
    "for price in prices:\n",
    "\tif current_index == len(input_premiums):\n",
    "\t\tbreak\n",
    "\tdiff = input_premiums[current_index] - price\n",
    "\tif diff < 0:\n",
    "\t\texpected_inps.append(prev_val)\n",
    "\t\tcurrent_index += 1\n",
    "\tprev_diff = diff\n",
    "\tprev_val = price\n",
    "\n",
    "x = zip(prices, probs)\n",
    "counter = 0\n",
    "for i in x:\n",
    "\tif counter == len(expected_inps):\n",
    "\t\tbreak\n",
    "\tif i[0] == expected_inps[counter]:\n",
    "\t\texpected.append(i[1])\n",
    "\t\tcounter += 1\n",
    "\n",
    "if len(input_premiums) is not len(expected):\n",
    "\tprint(\"fudck wrong lens\")\n",
    "\n",
    "input_train = input_premiums #[exp]\n",
    "expected_train = expected\n"
   ]
  },
  {
   "cell_type": "code",
   "execution_count": 69,
   "metadata": {},
   "outputs": [],
   "source": [
    "classifier = Sequential()\n",
    "    \n",
    "# Adding the input layer and the first hidden layer\n",
    "classifier.add(Dense(units = 25, activation = 'relu'))\n",
    "    \n",
    "# Adding the second hidden layer\n",
    "classifier.add(Dense(units = 64, activation = 'relu'))\n",
    "classifier.add(Dense(units = 64, activation = 'relu'))\n",
    "\n",
    "# Adding the output layer\n",
    "classifier.add(Dense(units = 1, activation = 'sigmoid'))\n",
    "    \n",
    "# Compiling the ANN\n",
    "classifier.compile(loss='mean_absolute_error', optimizer='adam', metrics=['mean_absolute_error'])\n",
    "\n",
    "History = classifier.fit(x = input_train, y = expected_train, batch_size = 26, epochs = 1000, verbose = 0)\n"
   ]
  },
  {
   "cell_type": "code",
   "execution_count": 70,
   "metadata": {},
   "outputs": [],
   "source": [
    "y_pred = classifier.predict(input_train)"
   ]
  },
  {
   "cell_type": "code",
   "execution_count": 71,
   "metadata": {},
   "outputs": [
    {
     "data": {
      "text/plain": [
       "array([[4.9646686e-11],\n",
       "       [3.9173813e-11],\n",
       "       [3.0910167e-11],\n",
       "       [2.4389726e-11],\n",
       "       [1.9244760e-11],\n",
       "       [1.5185112e-11],\n",
       "       [1.1981842e-11],\n",
       "       [9.4543132e-12],\n",
       "       [7.4599285e-12],\n",
       "       [5.8862711e-12],\n",
       "       [4.6445907e-12],\n",
       "       [3.6648089e-12],\n",
       "       [2.8917355e-12],\n",
       "       [2.2817249e-12],\n",
       "       [1.8004028e-12]], dtype=float32)"
      ]
     },
     "execution_count": 71,
     "metadata": {},
     "output_type": "execute_result"
    }
   ],
   "source": [
    "y_pred"
   ]
  },
  {
   "cell_type": "code",
   "execution_count": 72,
   "metadata": {},
   "outputs": [
    {
     "data": {
      "text/plain": [
       "15"
      ]
     },
     "execution_count": 72,
     "metadata": {},
     "output_type": "execute_result"
    }
   ],
   "source": [
    "len(expected_train)"
   ]
  },
  {
   "cell_type": "code",
   "execution_count": 58,
   "metadata": {},
   "outputs": [
    {
     "data": {
      "text/plain": [
       "15"
      ]
     },
     "execution_count": 58,
     "metadata": {},
     "output_type": "execute_result"
    }
   ],
   "source": [
    "len(y_pred)"
   ]
  },
  {
   "cell_type": "code",
   "execution_count": 59,
   "metadata": {},
   "outputs": [
    {
     "data": {
      "text/plain": [
       "15"
      ]
     },
     "execution_count": 59,
     "metadata": {},
     "output_type": "execute_result"
    }
   ],
   "source": [
    "len(input_train)"
   ]
  },
  {
   "cell_type": "code",
   "execution_count": 62,
   "metadata": {},
   "outputs": [
    {
     "data": {
      "image/png": "[encoded data removed]",
      "text/plain": [
       "<Figure size 432x288 with 1 Axes>"
      ]
     },
     "metadata": {
      "needs_background": "light"
     },
     "output_type": "display_data"
    }
   ],
   "source": [
    "plt.plot(input_train, expected_train, 'r', input_train, y_pred, \"k-\")\n",
    "\n",
    "plt.legend([\"actual\", \"network\"], loc=\"best\")\n",
    "plt.xlabel(\"Strike\")\n",
    "plt.ylabel(\"IV\")\n",
    "plt.show()"
   ]
  }
 ],
 "metadata": {
  "interpreter": {
   "hash": "33cd277d572d6d49982fc2620159b263be6b049a3d966793c9617dbd95a25049"
  },
  "kernelspec": {
   "display_name": "Python 3.9.2 64-bit",
   "language": "python",
   "name": "python3"
  },
  "language_info": {
   "codemirror_mode": {
    "name": "ipython",
    "version": 3
   },
   "file_extension": ".py",
   "mimetype": "text/x-python",
   "name": "python",
   "nbconvert_exporter": "python",
   "pygments_lexer": "ipython3",
   "version": "3.9.2"
  },
  "orig_nbformat": 4
 },
 "nbformat": 4,
 "nbformat_minor": 2
}
